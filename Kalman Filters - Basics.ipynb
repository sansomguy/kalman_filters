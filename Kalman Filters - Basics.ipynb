{
 "cells": [
  {
   "cell_type": "markdown",
   "metadata": {},
   "source": [
    "# Kalman Filters\n",
    "In this notebook I hope to write down my thoughts and some references with respect to Kalman Filters.\n",
    "\n",
    "I would like to, by the end of this notebook, have a good understanding of kalman filters and how they can be applied to solve position state predictions using GPS measurements (And potentially other measurements in the future)."
   ]
  },
  {
   "cell_type": "markdown",
   "metadata": {},
   "source": [
    "## What is a Kalman Filter\n",
    "\n",
    "A Kalman filter aims to produce state predictions of a system given a set of noisy measurement values over time. \n",
    "It acheives this by using joint probability distributions.\n",
    "\n",
    "_Joint probability distributions we know are indicators of what other values might be based on whatwe observe from neighbouring feature values._\n",
    "\n"
   ]
  },
  {
   "cell_type": "markdown",
   "metadata": {},
   "source": [
    "## Key Concepts\n",
    "\n",
    "* __Measurement__: An input from our system's sensors. This will inform us of a characteristic of our system.\n",
    "* __Certainty__: Certainty in this context is how much we trust a measurement or state prediction. We measure our certainty with respect to these things using Variance (Standard Deviation squared in a Guassian Distribution)\n",
    "* __Prediction__: Given a measurement and a previous state along with their respective Variances, what do we think the new state of our system is.\n",
    "* __Gain__: Gain is another way of describing a measurements ability to update the current state calculations. I believe this is highly correlated to the concept of the variance of a measurement. And in fact may be one in the same thing for the model we are creating below. I am unsure of my explanation here, so I would find some other sources if I was you...\n",
    "                                                        "
   ]
  },
  {
   "attachments": {},
   "cell_type": "markdown",
   "metadata": {},
   "source": [
    "## Normal Distributions\n",
    "\n",
    "Normal or Guassian Distributions are essentially just probability distribution functions that are good for representing real-world values (things like measurements) for independent events when the exact probability distributions are not known.\n",
    "\n",
    "\n",
    "Here is the mathematical notation for a normal distribution function.\n",
    "\n",
    "$f(x)=\\frac{1}{\\sqrt{2 \\pi \\sigma^{2}}} e^{-(x-\\mu)^{2} / 2 \\sigma^{2}}$\n",
    "\n",
    "Notice how it simply requires a mean and standard deviation (square root of Variance)\n",
    "\n",
    "Next we will implement this math in python.\n",
    "\n"
   ]
  },
  {
   "cell_type": "code",
   "execution_count": 37,
   "metadata": {},
   "outputs": [],
   "source": [
    "import math\n",
    "\n",
    "def normal(mean, standard_deviation, x):\n",
    "    # cleaner syntax ;)\n",
    "    sd = standard_deviation\n",
    "    \n",
    "    coefficient = 1.0 / math.sqrt(2.0 * math.pi * (sd**2))\n",
    "    e_with_exponent = math.exp(-0.5 * (x - mean)**2/(sd**2))\n",
    "    \n",
    "    return coefficient * e_with_exponent\n"
   ]
  },
  {
   "cell_type": "code",
   "execution_count": 40,
   "metadata": {},
   "outputs": [
    {
     "data": {
      "image/png": "[encoded data removed]",
      "text/plain": [
       "<Figure size 432x288 with 1 Axes>"
      ]
     },
     "metadata": {
      "needs_background": "light"
     },
     "output_type": "display_data"
    }
   ],
   "source": [
    "import matplotlib.pyplot as plt\n",
    "import numpy as np\n",
    "\n",
    "mean = 5\n",
    "std_d = 0.3\n",
    "\n",
    "x = np.linspace(mean - 3*std_d, mean + 3*std_d, 100)\n",
    "y = [normal(mean, std_d, val) for val in x]\n",
    "\n",
    "plt.plot(x, y)\n",
    "plt.show()\n"
   ]
  },
  {
   "cell_type": "markdown",
   "metadata": {},
   "source": [
    "## State\n",
    "\n",
    "State in our system to our output. That is to say its the one thing that we are attempting to acheive an estimate for through the use of our kalman filter. In a system we could have various sensors creating inputs/measurements that we can then use to inform our state. However, we know that for every measurement coming from our sensors there is some degree of noise, thus we need to build our kalman filters to help us to predict our state.\n",
    "\n",
    "The next thing we want to understand is that our best guess for the current state is the mean in one of these normal distributions. Our uncertainty (due to inaccurate sensor measurements) will be represented by the standard deviation or variance within this normal distribution.\n",
    "\n",
    "## Predicting State\n",
    "\n",
    "The question now becomes, okay, say we have some state (the mean in our normal distribution), but we also have some new measurements in our system regarding the outside world (acceleration for example), we now want to update our state given this new information we have acquired. How do we go about doing that?\n",
    "\n",
    "For this we think back to Bayes Theorem. What is the probability of X (our new measurement), given Y our prior state.\n",
    "\n",
    "Without going in to too much detail, we essentially want the prediction to sway in the direction of the distribution who has the highest level of certainty (which is the lowest standard deviation) as such we perform a weighted average between our measurement and our prior state.\n",
    "\n",
    "This is the function we are going to use for our weighted average:\n",
    "* $\\mu$ is our prior state\n",
    "* $\\nu$ is our measured state\n",
    "* $\\sigma^{2}$ is our prior state variance\n",
    "* $r^{2}$ is our measurement variance\n",
    "\n",
    "$\\mu^{\\prime}=\\frac{r^{2} \\mu+\\sigma^{2} \\nu}{r^{2}+\\sigma^{2}}$\n",
    "\n",
    "__Importantly__, you can see that if our prior state has a larger variance it will mean that our measurement mean will have a stronger affect on our new mean, and vice versa.\n",
    "\n",
    "The next piece is simply updating our new variance, for this we simply take the average between the two variances.\n"
   ]
  },
  {
   "cell_type": "code",
   "execution_count": null,
   "metadata": {},
   "outputs": [],
   "source": []
  },
  {
   "cell_type": "code",
   "execution_count": null,
   "metadata": {},
   "outputs": [],
   "source": []
  }
 ],
 "metadata": {
  "kernelspec": {
   "display_name": "Python 3",
   "language": "python",
   "name": "python3"
  },
  "language_info": {
   "codemirror_mode": {
    "name": "ipython",
    "version": 3
   },
   "file_extension": ".py",
   "mimetype": "text/x-python",
   "name": "python",
   "nbconvert_exporter": "python",
   "pygments_lexer": "ipython3",
   "version": "3.7.6"
  }
 },
 "nbformat": 4,
 "nbformat_minor": 4
}
